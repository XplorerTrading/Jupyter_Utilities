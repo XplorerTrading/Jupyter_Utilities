{
 "cells": [
  {
   "cell_type": "markdown",
   "id": "06ccb08a",
   "metadata": {
    "heading_collapsed": true
   },
   "source": [
    "##### Code"
   ]
  },
  {
   "cell_type": "markdown",
   "id": "51924b72",
   "metadata": {
    "heading_collapsed": true,
    "hidden": true
   },
   "source": [
    "###### References & Global Settings"
   ]
  },
  {
   "cell_type": "code",
   "execution_count": 1,
   "id": "800017cd",
   "metadata": {
    "code_folding": [
     0
    ],
    "hidden": true,
    "jupyter": {
     "source_hidden": true
    }
   },
   "outputs": [],
   "source": [
    "# Static configuration settings\n",
    "THEME_COLOR_VALUES = {\"PRIMARY_FONT_COLOR\" : \"#8deb5e\",\n",
    "                      \"SUBSCRIPT_FONT_COLOR\" : \"white\"}"
   ]
  },
  {
   "cell_type": "code",
   "execution_count": 2,
   "id": "1bf1184f",
   "metadata": {
    "code_folding": [
     0
    ],
    "hidden": true,
    "jupyter": {
     "source_hidden": true
    }
   },
   "outputs": [],
   "source": [
    "# Load Modules\n",
    "import os\n",
    "import keyring\n",
    "\n",
    "from IPython.display import clear_output, Javascript, Image, display, HTML\n",
    "import ipywidgets as widgets"
   ]
  },
  {
   "cell_type": "markdown",
   "id": "91d0d4bc",
   "metadata": {
    "heading_collapsed": true,
    "hidden": true
   },
   "source": [
    "###### Functions"
   ]
  },
  {
   "cell_type": "code",
   "execution_count": 3,
   "id": "88a3ce12",
   "metadata": {
    "code_folding": [
     2
    ],
    "hidden": true,
    "jupyter": {
     "source_hidden": true
    }
   },
   "outputs": [],
   "source": [
    "# IPWidget layout functions\n",
    "\n",
    "def build_widget_form_box(form_columns):\n",
    "    header_text_color = THEME_COLOR_VALUES['PRIMARY_FONT_COLOR']\n",
    "    form_vboxes = []\n",
    "    for header, data in form_columns:\n",
    "        form_vboxes.append(widgets.VBox([widgets.HTML('<font style=\"color:%s;\"><b>%s</b></font>' % (header_text_color,header))] + [\n",
    "            d if isinstance(d, widgets.Widget) else widgets.HTML(str(d)) for d in data],\n",
    "        layout=widgets.Layout(border='1px solid')))\n",
    "    return widgets.HBox(form_vboxes)\n"
   ]
  },
  {
   "cell_type": "markdown",
   "id": "2ae412df",
   "metadata": {
    "heading_collapsed": true,
    "hidden": true
   },
   "source": [
    "###### User Interface"
   ]
  },
  {
   "cell_type": "code",
   "execution_count": 4,
   "id": "c1883439",
   "metadata": {
    "code_folding": [
     2,
     6,
     16,
     21,
     26,
     31,
     59
    ],
    "hidden": true
   },
   "outputs": [],
   "source": [
    "# IPWidgets & Event Handlers\n",
    "\n",
    "Store_ID = widgets.Text(\n",
    "    value='',\n",
    "    description='Store ID:',\n",
    "    disabled=False)\n",
    "Entry_Name = widgets.Text(\n",
    "    value='',\n",
    "    description='Entry Name:',\n",
    "    disabled=False)\n",
    "Entry_Password = widgets.Password(\n",
    "    value='',\n",
    "    description='Entry Password:',\n",
    "    disabled=False)\n",
    "Credentials_Out = widgets.Output()\n",
    "Messages_Out = widgets.Output()\n",
    "Windows_Credman_Launch_button = widgets.Button(\n",
    "    description='Windows Credentials',\n",
    "    disabled=False,\n",
    "    button_style='', # 'success', 'info', 'warning', 'danger' or ''\n",
    "    tooltip='Click me')\n",
    "show_password_button = widgets.Button(\n",
    "    description='Show Password',\n",
    "    disabled=False,\n",
    "    button_style='', # 'success', 'info', 'warning', 'danger' or ''\n",
    "    tooltip='Click me')\n",
    "save_password_button = widgets.Button(\n",
    "    description='Save Password',\n",
    "    disabled=False,\n",
    "    button_style='', # 'success', 'info', 'warning', 'danger' or ''\n",
    "    tooltip='Click me')\n",
    "clear_button = widgets.Button(\n",
    "    description='Clear',\n",
    "    disabled=False,\n",
    "    button_style='', # 'success', 'info', 'warning', 'danger' or ''\n",
    "    tooltip='Click me')\n",
    "\n",
    "def Windows_Credman_Launch_button_clicked(b):\n",
    "    os.system('control /name Microsoft.CredentialManager')\n",
    "\n",
    "    \n",
    "def show_password_button_clicked(b):\n",
    "    \n",
    "    keyring_store_id = Store_ID.value\n",
    "    entry = Entry_Name.value\n",
    "    with Credentials_Out:\n",
    "        clear_output(wait=True)\n",
    "        print(keyring.get_password(keyring_store_id,entry))\n",
    "\n",
    "def save_password_button_clicked(b):\n",
    "    \n",
    "    keyring_store_id = Store_ID.value\n",
    "    entry = Entry_Name.value\n",
    "    password = Entry_Password.value\n",
    "    with Credentials_Out:\n",
    "        clear_output(wait=True)\n",
    "        keyring.set_password(keyring_store_id,username=entry,password=password)\n",
    "        print(keyring_store_id + ' Saved')\n",
    "\n",
    "def clear_button_clicked(b):\n",
    "    \n",
    "    Store_ID.value = ''\n",
    "    Entry_Name.value = ''\n",
    "    Entry_Password.value = ''\n",
    "    with Credentials_Out:\n",
    "        clear_output(wait=True)\n",
    "        print('')\n",
    "\n",
    "Windows_Credman_Launch_button.on_click(Windows_Credman_Launch_button_clicked)\n",
    "show_password_button.on_click(show_password_button_clicked)\n",
    "save_password_button.on_click(save_password_button_clicked)\n",
    "clear_button.on_click(clear_button_clicked)\n",
    "\n",
    "\n",
    "form_columns = [\n",
    "            # Each tuple contains a column header and a list of items/widgets\n",
    "            ('Input', [Store_ID,Entry_Name,Entry_Password,Windows_Credman_Launch_button,show_password_button,save_password_button,clear_button]),\n",
    "            ('Credentials', [Credentials_Out])\n",
    "            \n",
    "        ]\n",
    "    \n",
    "    \n",
    "    "
   ]
  },
  {
   "cell_type": "markdown",
   "id": "35b2f3da",
   "metadata": {},
   "source": [
    "#### Display"
   ]
  },
  {
   "cell_type": "code",
   "execution_count": 5,
   "id": "02b91b0e",
   "metadata": {
    "code_folding": [
     0
    ]
   },
   "outputs": [
    {
     "data": {
      "application/vnd.jupyter.widget-view+json": {
       "model_id": "4b8a85877444416981d38c33db7cee9c",
       "version_major": 2,
       "version_minor": 0
      },
      "text/plain": [
       "HBox(children=(VBox(children=(HTML(value='<font style=\"color:#8deb5e;\"><b>Input</b></font>'), Text(value='', d…"
      ]
     },
     "metadata": {},
     "output_type": "display_data"
    },
    {
     "data": {
      "application/vnd.jupyter.widget-view+json": {
       "model_id": "b87b6cbb315f4608983f5b14491f12d3",
       "version_major": 2,
       "version_minor": 0
      },
      "text/plain": [
       "Output()"
      ]
     },
     "metadata": {},
     "output_type": "display_data"
    }
   ],
   "source": [
    "# Display\n",
    "display(build_widget_form_box(form_columns))\n",
    "display(Messages_Out)"
   ]
  }
 ],
 "metadata": {
  "kernelspec": {
   "display_name": "Python [conda env:pyFin] *",
   "language": "python",
   "name": "conda-env-pyFin-py"
  },
  "language_info": {
   "codemirror_mode": {
    "name": "ipython",
    "version": 3
   },
   "file_extension": ".py",
   "mimetype": "text/x-python",
   "name": "python",
   "nbconvert_exporter": "python",
   "pygments_lexer": "ipython3",
   "version": "3.12.7"
  }
 },
 "nbformat": 4,
 "nbformat_minor": 5
}
